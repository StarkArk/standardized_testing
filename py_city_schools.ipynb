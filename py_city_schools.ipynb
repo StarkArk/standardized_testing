{
 "cells": [
  {
   "cell_type": "markdown",
   "metadata": {},
   "source": [
    "# PyCity Schools Analysis\n",
    "\n",
    "- Your analysis here\n",
    "  \n",
    "---"
   ]
  },
  {
   "cell_type": "code",
   "execution_count": 2,
   "metadata": {},
   "outputs": [
    {
     "data": {
      "text/html": [
       "<div>\n",
       "<style scoped>\n",
       "    .dataframe tbody tr th:only-of-type {\n",
       "        vertical-align: middle;\n",
       "    }\n",
       "\n",
       "    .dataframe tbody tr th {\n",
       "        vertical-align: top;\n",
       "    }\n",
       "\n",
       "    .dataframe thead th {\n",
       "        text-align: right;\n",
       "    }\n",
       "</style>\n",
       "<table border=\"1\" class=\"dataframe\">\n",
       "  <thead>\n",
       "    <tr style=\"text-align: right;\">\n",
       "      <th></th>\n",
       "      <th>Student ID</th>\n",
       "      <th>student_name</th>\n",
       "      <th>gender</th>\n",
       "      <th>grade</th>\n",
       "      <th>school_name</th>\n",
       "      <th>reading_score</th>\n",
       "      <th>math_score</th>\n",
       "      <th>School ID</th>\n",
       "      <th>type</th>\n",
       "      <th>size</th>\n",
       "      <th>budget</th>\n",
       "    </tr>\n",
       "  </thead>\n",
       "  <tbody>\n",
       "    <tr>\n",
       "      <th>0</th>\n",
       "      <td>0</td>\n",
       "      <td>Paul Bradley</td>\n",
       "      <td>M</td>\n",
       "      <td>9th</td>\n",
       "      <td>Huang High School</td>\n",
       "      <td>66</td>\n",
       "      <td>79</td>\n",
       "      <td>0</td>\n",
       "      <td>District</td>\n",
       "      <td>2917</td>\n",
       "      <td>1910635</td>\n",
       "    </tr>\n",
       "    <tr>\n",
       "      <th>1</th>\n",
       "      <td>1</td>\n",
       "      <td>Victor Smith</td>\n",
       "      <td>M</td>\n",
       "      <td>12th</td>\n",
       "      <td>Huang High School</td>\n",
       "      <td>94</td>\n",
       "      <td>61</td>\n",
       "      <td>0</td>\n",
       "      <td>District</td>\n",
       "      <td>2917</td>\n",
       "      <td>1910635</td>\n",
       "    </tr>\n",
       "    <tr>\n",
       "      <th>2</th>\n",
       "      <td>2</td>\n",
       "      <td>Kevin Rodriguez</td>\n",
       "      <td>M</td>\n",
       "      <td>12th</td>\n",
       "      <td>Huang High School</td>\n",
       "      <td>90</td>\n",
       "      <td>60</td>\n",
       "      <td>0</td>\n",
       "      <td>District</td>\n",
       "      <td>2917</td>\n",
       "      <td>1910635</td>\n",
       "    </tr>\n",
       "    <tr>\n",
       "      <th>3</th>\n",
       "      <td>3</td>\n",
       "      <td>Dr. Richard Scott</td>\n",
       "      <td>M</td>\n",
       "      <td>12th</td>\n",
       "      <td>Huang High School</td>\n",
       "      <td>67</td>\n",
       "      <td>58</td>\n",
       "      <td>0</td>\n",
       "      <td>District</td>\n",
       "      <td>2917</td>\n",
       "      <td>1910635</td>\n",
       "    </tr>\n",
       "    <tr>\n",
       "      <th>4</th>\n",
       "      <td>4</td>\n",
       "      <td>Bonnie Ray</td>\n",
       "      <td>F</td>\n",
       "      <td>9th</td>\n",
       "      <td>Huang High School</td>\n",
       "      <td>97</td>\n",
       "      <td>84</td>\n",
       "      <td>0</td>\n",
       "      <td>District</td>\n",
       "      <td>2917</td>\n",
       "      <td>1910635</td>\n",
       "    </tr>\n",
       "  </tbody>\n",
       "</table>\n",
       "</div>"
      ],
      "text/plain": [
       "   Student ID       student_name gender grade        school_name  \\\n",
       "0           0       Paul Bradley      M   9th  Huang High School   \n",
       "1           1       Victor Smith      M  12th  Huang High School   \n",
       "2           2    Kevin Rodriguez      M  12th  Huang High School   \n",
       "3           3  Dr. Richard Scott      M  12th  Huang High School   \n",
       "4           4         Bonnie Ray      F   9th  Huang High School   \n",
       "\n",
       "   reading_score  math_score  School ID      type  size   budget  \n",
       "0             66          79          0  District  2917  1910635  \n",
       "1             94          61          0  District  2917  1910635  \n",
       "2             90          60          0  District  2917  1910635  \n",
       "3             67          58          0  District  2917  1910635  \n",
       "4             97          84          0  District  2917  1910635  "
      ]
     },
     "execution_count": 2,
     "metadata": {},
     "output_type": "execute_result"
    }
   ],
   "source": [
    "# Dependencies and Setup\n",
    "import pandas as pd\n",
    "from pathlib import Path\n",
    "import numpy as np\n",
    "\n",
    "# File to Load (Remember to Change These)\n",
    "school_data_to_load = Path(\"Resources/schools_complete.csv\")\n",
    "student_data_to_load = Path(\"Resources/students_complete.csv\")\n",
    "\n",
    "# Read School and Student Data File and store into Pandas DataFrames\n",
    "school_data = pd.read_csv(school_data_to_load)\n",
    "student_data = pd.read_csv(student_data_to_load)\n",
    "\n",
    "# Combine the data into a single dataset.  \n",
    "school_data_complete = pd.merge(student_data, school_data, how=\"left\", on=[\"school_name\", \"school_name\"])\n",
    "school_data_complete.head()"
   ]
  },
  {
   "cell_type": "code",
   "execution_count": 3,
   "metadata": {},
   "outputs": [
    {
     "name": "stdout",
     "output_type": "stream",
     "text": [
      "<class 'pandas.core.frame.DataFrame'>\n",
      "RangeIndex: 39170 entries, 0 to 39169\n",
      "Data columns (total 11 columns):\n",
      " #   Column         Non-Null Count  Dtype \n",
      "---  ------         --------------  ----- \n",
      " 0   Student ID     39170 non-null  int64 \n",
      " 1   student_name   39170 non-null  object\n",
      " 2   gender         39170 non-null  object\n",
      " 3   grade          39170 non-null  object\n",
      " 4   school_name    39170 non-null  object\n",
      " 5   reading_score  39170 non-null  int64 \n",
      " 6   math_score     39170 non-null  int64 \n",
      " 7   School ID      39170 non-null  int64 \n",
      " 8   type           39170 non-null  object\n",
      " 9   size           39170 non-null  int64 \n",
      " 10  budget         39170 non-null  int64 \n",
      "dtypes: int64(6), object(5)\n",
      "memory usage: 3.3+ MB\n"
     ]
    }
   ],
   "source": [
    "school_data_complete.info()\n"
   ]
  },
  {
   "cell_type": "markdown",
   "metadata": {},
   "source": [
    "## District Summary"
   ]
  },
  {
   "cell_type": "code",
   "execution_count": 6,
   "metadata": {},
   "outputs": [
    {
     "data": {
      "text/plain": [
       "39170"
      ]
     },
     "execution_count": 6,
     "metadata": {},
     "output_type": "execute_result"
    }
   ],
   "source": [
    "# Calculate the total number of students\n",
    "student_count = student_data[\"Student ID\"].nunique()\n",
    "student_count"
   ]
  },
  {
   "cell_type": "code",
   "execution_count": 7,
   "metadata": {},
   "outputs": [
    {
     "data": {
      "text/plain": [
       "24649428"
      ]
     },
     "execution_count": 7,
     "metadata": {},
     "output_type": "execute_result"
    }
   ],
   "source": [
    "# Calculate the total budget\n",
    "budget_list = list(set(school_data_complete[\"budget\"]))\n",
    "total_budget = np.sum(budget_list)\n",
    "total_budget"
   ]
  },
  {
   "cell_type": "code",
   "execution_count": 8,
   "metadata": {},
   "outputs": [
    {
     "data": {
      "text/plain": [
       "78.98537145774827"
      ]
     },
     "execution_count": 8,
     "metadata": {},
     "output_type": "execute_result"
    }
   ],
   "source": [
    "# Calculate the average (mean) math score\n",
    "average_math_score = school_data_complete[\"math_score\"].mean()\n",
    "average_math_score "
   ]
  },
  {
   "cell_type": "code",
   "execution_count": 9,
   "metadata": {},
   "outputs": [
    {
     "data": {
      "text/plain": [
       "81.87784018381414"
      ]
     },
     "execution_count": 9,
     "metadata": {},
     "output_type": "execute_result"
    }
   ],
   "source": [
    "# Calculate the average (mean) reading score\n",
    "average_reading_score = school_data_complete[\"reading_score\"].mean()\n",
    "average_reading_score"
   ]
  },
  {
   "cell_type": "code",
   "execution_count": 10,
   "metadata": {},
   "outputs": [
    {
     "data": {
      "text/plain": [
       "74.9808526933878"
      ]
     },
     "execution_count": 10,
     "metadata": {},
     "output_type": "execute_result"
    }
   ],
   "source": [
    "# Use the following to calculate the percentage of students who passed math (math scores greather than or equal to 70)\n",
    "passing_math_count = school_data_complete[(school_data_complete[\"math_score\"] >= 70)].count()[\"student_name\"]\n",
    "passing_math_percentage = passing_math_count / float(student_count) * 100\n",
    "passing_math_percentage"
   ]
  },
  {
   "cell_type": "code",
   "execution_count": 11,
   "metadata": {},
   "outputs": [
    {
     "data": {
      "text/plain": [
       "85.80546336482001"
      ]
     },
     "execution_count": 11,
     "metadata": {},
     "output_type": "execute_result"
    }
   ],
   "source": [
    "# Calculate the percentage of students who passed reading (hint: look at how the math percentage was calculated)  \n",
    "passing_reading_count = school_data_complete[(school_data_complete[\"reading_score\"] >= 70)].count()[\"student_name\"]\n",
    "passing_reading_percentage = passing_reading_count / float(student_count) * 100\n",
    "passing_reading_percentage"
   ]
  },
  {
   "cell_type": "code",
   "execution_count": 12,
   "metadata": {},
   "outputs": [
    {
     "data": {
      "text/plain": [
       "65.17232575950983"
      ]
     },
     "execution_count": 12,
     "metadata": {},
     "output_type": "execute_result"
    }
   ],
   "source": [
    "# Use the following to calculate the percentage of students that passed math and reading\n",
    "passing_math_reading_count = school_data_complete[\n",
    "    (school_data_complete[\"math_score\"] >= 70) & (school_data_complete[\"reading_score\"] >= 70)\n",
    "].count()[\"student_name\"]\n",
    "overall_passing_rate = passing_math_reading_count /  float(student_count) * 100\n",
    "overall_passing_rate"
   ]
  },
  {
   "cell_type": "code",
   "execution_count": 13,
   "metadata": {},
   "outputs": [
    {
     "data": {
      "text/html": [
       "<div>\n",
       "<style scoped>\n",
       "    .dataframe tbody tr th:only-of-type {\n",
       "        vertical-align: middle;\n",
       "    }\n",
       "\n",
       "    .dataframe tbody tr th {\n",
       "        vertical-align: top;\n",
       "    }\n",
       "\n",
       "    .dataframe thead th {\n",
       "        text-align: right;\n",
       "    }\n",
       "</style>\n",
       "<table border=\"1\" class=\"dataframe\">\n",
       "  <thead>\n",
       "    <tr style=\"text-align: right;\">\n",
       "      <th></th>\n",
       "      <th>Total Schools</th>\n",
       "      <th>Total Students</th>\n",
       "      <th>Total Budget</th>\n",
       "      <th>Average Math Score</th>\n",
       "      <th>Average Reading Score</th>\n",
       "      <th>% Passing Reading</th>\n",
       "      <th>% Passing Math</th>\n",
       "      <th>% Passing Overall</th>\n",
       "    </tr>\n",
       "  </thead>\n",
       "  <tbody>\n",
       "    <tr>\n",
       "      <th>0</th>\n",
       "      <td>15</td>\n",
       "      <td>39,170</td>\n",
       "      <td>$24,649,428</td>\n",
       "      <td>79.0%</td>\n",
       "      <td>81.9%</td>\n",
       "      <td>75.0%</td>\n",
       "      <td>85.8%</td>\n",
       "      <td>65.2%</td>\n",
       "    </tr>\n",
       "  </tbody>\n",
       "</table>\n",
       "</div>"
      ],
      "text/plain": [
       "   Total Schools Total Students Total Budget Average Math Score  \\\n",
       "0             15         39,170  $24,649,428              79.0%   \n",
       "\n",
       "  Average Reading Score % Passing Reading % Passing Math % Passing Overall  \n",
       "0                 81.9%             75.0%          85.8%             65.2%  "
      ]
     },
     "execution_count": 13,
     "metadata": {},
     "output_type": "execute_result"
    }
   ],
   "source": [
    "# Create a high-level snapshot of the district's key metrics in a DataFrame\n",
    "summary_list = [[school_count, student_count, total_budget, average_math_score, \n",
    "                average_reading_score, passing_math_percentage, passing_reading_percentage,\n",
    "               overall_passing_rate]]\n",
    "summary_columns = [\"Total Schools\", \"Total Students\", \"Total Budget\", \"Average Math Score\",\n",
    "                \"Average Reading Score\", \"% Passing Reading\", \"% Passing Math\", \n",
    "                \"% Passing Overall\"]\n",
    "district_summary = pd.DataFrame(summary_list, columns = summary_columns)\n",
    "\n",
    "# Formatting\n",
    "district_summary[\"Total Students\"] = district_summary[\"Total Students\"].map(\"{:,}\".format)\n",
    "district_summary[\"Total Budget\"] = district_summary[\"Total Budget\"].map(\"${:,.0f}\".format)\n",
    "district_summary[\"Average Math Score\"] = district_summary[\"Average Math Score\"].map(\"{:.1f}%\".format)\n",
    "district_summary[\"Average Reading Score\"] = district_summary[\"Average Reading Score\"].map(\"{:.1f}%\".format)\n",
    "district_summary[\"% Passing Reading\"] = district_summary[\"% Passing Reading\"].map(\"{:.1f}%\".format)\n",
    "district_summary[\"% Passing Math\"] = district_summary[\"% Passing Math\"].map(\"{:.1f}%\".format)\n",
    "district_summary[\"% Passing Overall\"] = district_summary[\"% Passing Overall\"].map(\"{:.1f}%\".format)\n",
    "\n",
    "\n",
    "# Display the DataFrame\n",
    "# display(district_summary)\n",
    "district_summary"
   ]
  },
  {
   "cell_type": "markdown",
   "metadata": {},
   "source": [
    "## School Summary"
   ]
  },
  {
   "cell_type": "code",
   "execution_count": 14,
   "metadata": {},
   "outputs": [
    {
     "data": {
      "text/plain": [
       "Index(['Student ID', 'student_name', 'gender', 'grade', 'school_name',\n",
       "       'reading_score', 'math_score', 'School ID', 'type', 'size', 'budget'],\n",
       "      dtype='object')"
      ]
     },
     "execution_count": 14,
     "metadata": {},
     "output_type": "execute_result"
    }
   ],
   "source": [
    "school_data_complete.columns"
   ]
  },
  {
   "cell_type": "code",
   "execution_count": 17,
   "metadata": {},
   "outputs": [
    {
     "data": {
      "text/plain": [
       "['Bailey High School',\n",
       " 'Cabrera High School',\n",
       " 'Figueroa High School',\n",
       " 'Ford High School',\n",
       " 'Griffin High School',\n",
       " 'Hernandez High School',\n",
       " 'Holden High School',\n",
       " 'Huang High School',\n",
       " 'Johnson High School',\n",
       " 'Pena High School',\n",
       " 'Rodriguez High School',\n",
       " 'Shelton High School',\n",
       " 'Thomas High School',\n",
       " 'Wilson High School',\n",
       " 'Wright High School']"
      ]
     },
     "execution_count": 17,
     "metadata": {},
     "output_type": "execute_result"
    }
   ],
   "source": [
    "# Create a one column dataframe of the schools\n",
    "# schools = pd.DataFrame(list(school_data_complete[\"school_name\"].unique())\n",
    "schools = pd.DataFrame({\"school_name\": school_data_complete[\"school_name\"].unique()} )\n",
    "schools = schools.sort_values(by=\"school_name\")\n",
    "schools = list(schools[\"school_name\"])\n",
    "schools\n"
   ]
  },
  {
   "cell_type": "code",
   "execution_count": 19,
   "metadata": {},
   "outputs": [
    {
     "data": {
      "text/plain": [
       "['District',\n",
       " 'Charter',\n",
       " 'District',\n",
       " 'District',\n",
       " 'Charter',\n",
       " 'District',\n",
       " 'Charter',\n",
       " 'District',\n",
       " 'District',\n",
       " 'Charter',\n",
       " 'District',\n",
       " 'Charter',\n",
       " 'Charter',\n",
       " 'Charter',\n",
       " 'Charter']"
      ]
     },
     "execution_count": 19,
     "metadata": {},
     "output_type": "execute_result"
    }
   ],
   "source": [
    "# Use the code provided to select all of the school types\n",
    "school_types_dict = {\"school_name\": [], \"type\": []}\n",
    "old_school = \"\"\n",
    "for i in school_data_complete.index:\n",
    "    school_name = school_data_complete['school_name'][i]\n",
    "    if school_name != old_school: \n",
    "        school_types_dict[\"school_name\"].append(school_data_complete[\"school_name\"][i])\n",
    "        school_types_dict[\"type\"].append(school_data_complete[\"type\"][i])\n",
    "        old_school = school_name\n",
    "\n",
    "school_types = pd.DataFrame(data = school_types_dict)  \n",
    "school_types = school_types.sort_values(by = [\"school_name\"])\n",
    "\n",
    "school_types = list(school_types[\"type\"])\n",
    "\n",
    "school_types"
   ]
  },
  {
   "cell_type": "code",
   "execution_count": 21,
   "metadata": {},
   "outputs": [
    {
     "data": {
      "text/plain": [
       "array(['Bailey High School', 'Cabrera High School',\n",
       "       'Figueroa High School', 'Ford High School', 'Griffin High School',\n",
       "       'Hernandez High School', 'Holden High School', 'Huang High School',\n",
       "       'Johnson High School', 'Pena High School', 'Rodriguez High School',\n",
       "       'Shelton High School', 'Thomas High School', 'Wilson High School',\n",
       "       'Wright High School'], dtype='<U21')"
      ]
     },
     "execution_count": 21,
     "metadata": {},
     "output_type": "execute_result"
    }
   ],
   "source": [
    "np.array(schools)\n"
   ]
  },
  {
   "cell_type": "code",
   "execution_count": 23,
   "metadata": {},
   "outputs": [
    {
     "data": {
      "text/plain": [
       "[4976,\n",
       " 1858,\n",
       " 2949,\n",
       " 2739,\n",
       " 1468,\n",
       " 4635,\n",
       " 427,\n",
       " 2917,\n",
       " 4761,\n",
       " 962,\n",
       " 3999,\n",
       " 1761,\n",
       " 1635,\n",
       " 2283,\n",
       " 1800]"
      ]
     },
     "execution_count": 23,
     "metadata": {},
     "output_type": "execute_result"
    }
   ],
   "source": [
    "# Calculate the total student count per school\n",
    "# per_school_counts = school_data_complete[[\"type\", \"Student ID\"]].groupby([\"type\"]).count()\n",
    "per_school_counts = school_data_complete.groupby([\"school_name\"]).count()\n",
    "\n",
    "per_school_counts = list(per_school_counts[\"Student ID\"])\n",
    "\n",
    "per_school_counts"
   ]
  },
  {
   "cell_type": "code",
   "execution_count": 25,
   "metadata": {},
   "outputs": [
    {
     "data": {
      "text/plain": [
       "[3124928.0,\n",
       " 1081356.0,\n",
       " 1884411.0,\n",
       " 1763916.0,\n",
       " 917500.0,\n",
       " 3022020.0,\n",
       " 248087.0,\n",
       " 1910635.0,\n",
       " 3094650.0,\n",
       " 585858.0,\n",
       " 2547363.0,\n",
       " 1056600.0,\n",
       " 1043130.0,\n",
       " 1319574.0,\n",
       " 1049400.0]"
      ]
     },
     "metadata": {},
     "output_type": "display_data"
    },
    {
     "data": {
      "text/plain": [
       "[628.0,\n",
       " 582.0,\n",
       " 639.0,\n",
       " 644.0,\n",
       " 625.0,\n",
       " 652.0,\n",
       " 581.0,\n",
       " 655.0,\n",
       " 650.0,\n",
       " 609.0,\n",
       " 637.0,\n",
       " 600.0,\n",
       " 638.0,\n",
       " 578.0,\n",
       " 583.0]"
      ]
     },
     "metadata": {},
     "output_type": "display_data"
    }
   ],
   "source": [
    "# Calculate the total school budget and per capita spending per school\n",
    "per_school_budget = school_data_complete[[\"school_name\", \"budget\"]].groupby([\"school_name\"]).mean()\n",
    "per_school_budget[\"budget per capita\"] = per_school_budget[\"budget\"]/per_school_counts\n",
    "\n",
    "per_school_budget_capita = list(per_school_budget[\"budget per capita\"])\n",
    "per_school_budget = list(per_school_budget[\"budget\"])\n",
    "\n",
    "display(per_school_budget)\n",
    "display(per_school_budget_capita)"
   ]
  },
  {
   "cell_type": "code",
   "execution_count": null,
   "metadata": {},
   "outputs": [],
   "source": []
  },
  {
   "cell_type": "code",
   "execution_count": null,
   "metadata": {},
   "outputs": [],
   "source": [
    "school_data_complete.columns"
   ]
  },
  {
   "cell_type": "code",
   "execution_count": 28,
   "metadata": {},
   "outputs": [
    {
     "data": {
      "text/plain": [
       "[77.04843247588424,\n",
       " 83.06189451022605,\n",
       " 76.71176670057646,\n",
       " 77.10259218692954,\n",
       " 83.35149863760218,\n",
       " 77.28975188781014,\n",
       " 83.80327868852459,\n",
       " 76.62941378128214,\n",
       " 77.07246376811594,\n",
       " 83.83991683991684,\n",
       " 76.84271067766942,\n",
       " 83.3594548551959,\n",
       " 83.4183486238532,\n",
       " 83.2742006132282,\n",
       " 83.68222222222222]"
      ]
     },
     "metadata": {},
     "output_type": "display_data"
    },
    {
     "data": {
      "text/plain": [
       "[81.03396302250803,\n",
       " 83.97578040904197,\n",
       " 81.15801966768396,\n",
       " 80.74625775830594,\n",
       " 83.816757493188,\n",
       " 80.9344120819849,\n",
       " 83.81498829039812,\n",
       " 81.18272197463148,\n",
       " 80.96639361478681,\n",
       " 84.04469854469855,\n",
       " 80.74468617154288,\n",
       " 83.72572402044293,\n",
       " 83.84892966360856,\n",
       " 83.98948751642575,\n",
       " 83.955]"
      ]
     },
     "metadata": {},
     "output_type": "display_data"
    }
   ],
   "source": [
    "# Calculate the average test scores per school\n",
    "per_school_math = school_data_complete[[\"school_name\", \"math_score\"]].groupby([\"school_name\"]).mean()\n",
    "per_school_reading = school_data_complete[[\"school_name\", \"reading_score\"]].groupby([\"school_name\"]).mean()\n",
    "\n",
    "per_school_math_list = list(per_school_math[\"math_score\"])\n",
    "per_school_reading_list = list(per_school_reading[\"reading_score\"])\n",
    "\n",
    "display(per_school_math_list)\n",
    "display(per_school_reading_list)"
   ]
  },
  {
   "cell_type": "code",
   "execution_count": 31,
   "metadata": {},
   "outputs": [
    {
     "data": {
      "text/plain": [
       "[3318,\n",
       " 1749,\n",
       " 1946,\n",
       " 1871,\n",
       " 1371,\n",
       " 3094,\n",
       " 395,\n",
       " 1916,\n",
       " 3145,\n",
       " 910,\n",
       " 2654,\n",
       " 1653,\n",
       " 1525,\n",
       " 2143,\n",
       " 1680]"
      ]
     },
     "metadata": {},
     "output_type": "display_data"
    }
   ],
   "source": [
    "# Calculate the number of students per school with math scores of 70 or higher\n",
    "students_passing_math = school_data_complete[school_data_complete[\"math_score\"] >= 70]\n",
    "school_students_passing_math = students_passing_math.groupby([\"school_name\"]).size()\n",
    "\n",
    "school_students_passing_math_list = list(school_students_passing_math)\n",
    "\n",
    "display(school_students_passing_math_list)"
   ]
  },
  {
   "cell_type": "code",
   "execution_count": 34,
   "metadata": {},
   "outputs": [
    {
     "data": {
      "text/plain": [
       "school_name\n",
       "Bailey High School       4077\n",
       "Cabrera High School      1803\n",
       "Figueroa High School     2381\n",
       "Ford High School         2172\n",
       "Griffin High School      1426\n",
       "Hernandez High School    3748\n",
       "Holden High School        411\n",
       "Huang High School        2372\n",
       "Johnson High School      3867\n",
       "Pena High School          923\n",
       "Rodriguez High School    3208\n",
       "Shelton High School      1688\n",
       "Thomas High School       1591\n",
       "Wilson High School       2204\n",
       "Wright High School       1739\n",
       "dtype: int64"
      ]
     },
     "metadata": {},
     "output_type": "display_data"
    }
   ],
   "source": [
    "# Calculate the number of students per school with reading scores of 70 or higher\n",
    "students_passing_reading = school_data_complete[school_data_complete[\"reading_score\"] >= 70]\n",
    "school_students_passing_reading = students_passing_reading.groupby([\"school_name\"]).size()\n",
    "\n",
    "display(school_students_passing_reading)"
   ]
  },
  {
   "cell_type": "code",
   "execution_count": 36,
   "metadata": {},
   "outputs": [
    {
     "data": {
      "text/plain": [
       "[2719,\n",
       " 1697,\n",
       " 1569,\n",
       " 1487,\n",
       " 1330,\n",
       " 2481,\n",
       " 381,\n",
       " 1561,\n",
       " 2549,\n",
       " 871,\n",
       " 2119,\n",
       " 1583,\n",
       " 1487,\n",
       " 2068,\n",
       " 1626]"
      ]
     },
     "metadata": {},
     "output_type": "display_data"
    }
   ],
   "source": [
    "# Use the provided code to calculate the number of students per school that passed both math and reading with scores of 70 or higher\n",
    "students_passing_math_and_reading = school_data_complete[\n",
    "    (school_data_complete[\"reading_score\"] >= 70) & (school_data_complete[\"math_score\"] >= 70)\n",
    "]\n",
    "school_students_passing_math_and_reading = students_passing_math_and_reading.groupby([\"school_name\"]).size()\n",
    "school_students_passing_math_and_reading_list = list(school_students_passing_math_and_reading)\n",
    "\n",
    "display(school_students_passing_math_and_reading_list)"
   ]
  },
  {
   "cell_type": "code",
   "execution_count": 38,
   "metadata": {},
   "outputs": [
    {
     "data": {
      "text/plain": [
       "[66.68006430868168,\n",
       " 94.1334768568353,\n",
       " 65.98847066802306,\n",
       " 68.3096020445418,\n",
       " 93.39237057220708,\n",
       " 66.7529665587918,\n",
       " 92.50585480093677,\n",
       " 65.68392183750429,\n",
       " 66.0575509346776,\n",
       " 94.5945945945946,\n",
       " 66.36659164791197,\n",
       " 93.8671209540034,\n",
       " 93.27217125382263,\n",
       " 93.8677179150241,\n",
       " 93.33333333333333]"
      ]
     },
     "metadata": {},
     "output_type": "display_data"
    },
    {
     "data": {
      "text/plain": [
       "[81.93327974276528,\n",
       " 97.03982777179763,\n",
       " 80.73923363852154,\n",
       " 79.29901423877328,\n",
       " 97.13896457765668,\n",
       " 80.86299892125135,\n",
       " 96.25292740046838,\n",
       " 81.31642098045938,\n",
       " 81.2224322621298,\n",
       " 95.94594594594594,\n",
       " 80.22005501375344,\n",
       " 95.85462805224304,\n",
       " 97.30886850152906,\n",
       " 96.53964082347788,\n",
       " 96.61111111111111]"
      ]
     },
     "metadata": {},
     "output_type": "display_data"
    },
    {
     "data": {
      "text/plain": [
       "[54.64228295819936,\n",
       " 91.33476856835307,\n",
       " 53.20447609359105,\n",
       " 54.289886820007304,\n",
       " 90.59945504087193,\n",
       " 53.52750809061489,\n",
       " 89.22716627634661,\n",
       " 53.51388412752828,\n",
       " 53.53917244276413,\n",
       " 90.54054054054053,\n",
       " 52.988247061765435,\n",
       " 89.89210675752413,\n",
       " 90.94801223241589,\n",
       " 90.58256679807272,\n",
       " 90.33333333333333]"
      ]
     },
     "metadata": {},
     "output_type": "display_data"
    }
   ],
   "source": [
    "# Use the provided code to calculate the passing rates\n",
    "per_school_passing_math = school_students_passing_math / per_school_counts * 100\n",
    "per_school_passing_reading = school_students_passing_reading / per_school_counts * 100\n",
    "overall_passing_rate = school_students_passing_math_and_reading / per_school_counts * 100\n",
    "\n",
    "per_school_passing_math_list = list(per_school_passing_math)\n",
    "per_school_passing_reading_list = list(per_school_passing_reading)\n",
    "overall_passing_rate_list = list(overall_passing_rate)\n",
    "\n",
    "display(per_school_passing_math_list)\n",
    "display(per_school_passing_reading_list)\n",
    "display(overall_passing_rate_list)"
   ]
  },
  {
   "cell_type": "code",
   "execution_count": 45,
   "metadata": {},
   "outputs": [
    {
     "data": {
      "text/html": [
       "<div>\n",
       "<style scoped>\n",
       "    .dataframe tbody tr th:only-of-type {\n",
       "        vertical-align: middle;\n",
       "    }\n",
       "\n",
       "    .dataframe tbody tr th {\n",
       "        vertical-align: top;\n",
       "    }\n",
       "\n",
       "    .dataframe thead th {\n",
       "        text-align: right;\n",
       "    }\n",
       "</style>\n",
       "<table border=\"1\" class=\"dataframe\">\n",
       "  <thead>\n",
       "    <tr style=\"text-align: right;\">\n",
       "      <th></th>\n",
       "      <th>math</th>\n",
       "      <th>reading</th>\n",
       "      <th>overall</th>\n",
       "    </tr>\n",
       "  </thead>\n",
       "  <tbody>\n",
       "    <tr>\n",
       "      <th>0</th>\n",
       "      <td>66.680064</td>\n",
       "      <td>94.133477</td>\n",
       "      <td>65.988471</td>\n",
       "    </tr>\n",
       "    <tr>\n",
       "      <th>1</th>\n",
       "      <td>68.309602</td>\n",
       "      <td>93.392371</td>\n",
       "      <td>66.752967</td>\n",
       "    </tr>\n",
       "    <tr>\n",
       "      <th>2</th>\n",
       "      <td>92.505855</td>\n",
       "      <td>65.683922</td>\n",
       "      <td>66.057551</td>\n",
       "    </tr>\n",
       "    <tr>\n",
       "      <th>3</th>\n",
       "      <td>94.594595</td>\n",
       "      <td>66.366592</td>\n",
       "      <td>93.867121</td>\n",
       "    </tr>\n",
       "    <tr>\n",
       "      <th>4</th>\n",
       "      <td>93.272171</td>\n",
       "      <td>93.867718</td>\n",
       "      <td>93.333333</td>\n",
       "    </tr>\n",
       "    <tr>\n",
       "      <th>5</th>\n",
       "      <td>81.933280</td>\n",
       "      <td>97.039828</td>\n",
       "      <td>80.739234</td>\n",
       "    </tr>\n",
       "    <tr>\n",
       "      <th>6</th>\n",
       "      <td>79.299014</td>\n",
       "      <td>97.138965</td>\n",
       "      <td>80.862999</td>\n",
       "    </tr>\n",
       "    <tr>\n",
       "      <th>7</th>\n",
       "      <td>96.252927</td>\n",
       "      <td>81.316421</td>\n",
       "      <td>81.222432</td>\n",
       "    </tr>\n",
       "    <tr>\n",
       "      <th>8</th>\n",
       "      <td>95.945946</td>\n",
       "      <td>80.220055</td>\n",
       "      <td>95.854628</td>\n",
       "    </tr>\n",
       "    <tr>\n",
       "      <th>9</th>\n",
       "      <td>97.308869</td>\n",
       "      <td>96.539641</td>\n",
       "      <td>96.611111</td>\n",
       "    </tr>\n",
       "    <tr>\n",
       "      <th>10</th>\n",
       "      <td>54.642283</td>\n",
       "      <td>91.334769</td>\n",
       "      <td>53.204476</td>\n",
       "    </tr>\n",
       "    <tr>\n",
       "      <th>11</th>\n",
       "      <td>54.289887</td>\n",
       "      <td>90.599455</td>\n",
       "      <td>53.527508</td>\n",
       "    </tr>\n",
       "    <tr>\n",
       "      <th>12</th>\n",
       "      <td>89.227166</td>\n",
       "      <td>53.513884</td>\n",
       "      <td>53.539172</td>\n",
       "    </tr>\n",
       "    <tr>\n",
       "      <th>13</th>\n",
       "      <td>90.540541</td>\n",
       "      <td>52.988247</td>\n",
       "      <td>89.892107</td>\n",
       "    </tr>\n",
       "    <tr>\n",
       "      <th>14</th>\n",
       "      <td>90.948012</td>\n",
       "      <td>90.582567</td>\n",
       "      <td>90.333333</td>\n",
       "    </tr>\n",
       "  </tbody>\n",
       "</table>\n",
       "</div>"
      ],
      "text/plain": [
       "         math    reading    overall\n",
       "0   66.680064  94.133477  65.988471\n",
       "1   68.309602  93.392371  66.752967\n",
       "2   92.505855  65.683922  66.057551\n",
       "3   94.594595  66.366592  93.867121\n",
       "4   93.272171  93.867718  93.333333\n",
       "5   81.933280  97.039828  80.739234\n",
       "6   79.299014  97.138965  80.862999\n",
       "7   96.252927  81.316421  81.222432\n",
       "8   95.945946  80.220055  95.854628\n",
       "9   97.308869  96.539641  96.611111\n",
       "10  54.642283  91.334769  53.204476\n",
       "11  54.289887  90.599455  53.527508\n",
       "12  89.227166  53.513884  53.539172\n",
       "13  90.540541  52.988247  89.892107\n",
       "14  90.948012  90.582567  90.333333"
      ]
     },
     "execution_count": 45,
     "metadata": {},
     "output_type": "execute_result"
    }
   ],
   "source": [
    "# per_school_passing_math = list(per_school_passing_math)\n",
    "# per_school_passing_reading = list(per_school_passing_reading)\n",
    "# overall_passing_rate = list(overall_passing_rate)\n",
    "summary_list = np.array([per_school_passing_math, per_school_passing_reading, \n",
    "                         overall_passing_rate])\n",
    "summary_list = np.reshape(summary_list, (15, 3))\n",
    "df = pd.DataFrame(summary_list,\n",
    "                 columns = [\"math\", \"reading\", \"overall\"])\n",
    "df\n"
   ]
  },
  {
   "cell_type": "code",
   "execution_count": null,
   "metadata": {},
   "outputs": [],
   "source": [
    "district_summary_dict = {\"School Name\": [], \"School Type\":[], \"Total School Budget\": [], \n",
    "                         \"Student Count\": [], \"Per Student Budget\": [], \"Math Score(Avg)\": [], \n",
    "                         \"Reading Score(Avg)\": [], \"Percent Passing Math\": [], \n",
    "                         \"Percent Passing Reading\": [], \"Percent Passing Overall\": []}\n",
    "for i in range(15):\n",
    "    district_summary_dict[\"School Name\"][i]\n",
    "    district_summary_dict[\"School Type\"][i]\n",
    "    district_summary_dict[\"Total School Budget\"][i]\n",
    "    district_summary_dict[\"Student Count\"][i]\n",
    "    district_summary_dict[\"Per Student Budget\"][i]\n",
    "    district_summary_dict[\"Math Score(Avg)\"][i]\n",
    "    district_summary_dict[\"Reading Score(Avg)\"][i]\n",
    "    district_summary_dict[\"School Name\"][i]\n",
    "    district_summary_dict[\"School Name\"][i]\n",
    "    district_summary_dict[\"School Name\"][i]"
   ]
  },
  {
   "cell_type": "code",
   "execution_count": 44,
   "metadata": {},
   "outputs": [
    {
     "data": {
      "text/html": [
       "<div>\n",
       "<style scoped>\n",
       "    .dataframe tbody tr th:only-of-type {\n",
       "        vertical-align: middle;\n",
       "    }\n",
       "\n",
       "    .dataframe tbody tr th {\n",
       "        vertical-align: top;\n",
       "    }\n",
       "\n",
       "    .dataframe thead th {\n",
       "        text-align: right;\n",
       "    }\n",
       "</style>\n",
       "<table border=\"1\" class=\"dataframe\">\n",
       "  <thead>\n",
       "    <tr style=\"text-align: right;\">\n",
       "      <th></th>\n",
       "      <th>School Name</th>\n",
       "      <th>School Type</th>\n",
       "      <th>Total School Budget</th>\n",
       "      <th>Student Count</th>\n",
       "      <th>Per Student Budget</th>\n",
       "      <th>Math Score(Avg)</th>\n",
       "      <th>Reading Score(Avg)</th>\n",
       "      <th>Percent Passing Math</th>\n",
       "      <th>Percent Passing Reading</th>\n",
       "      <th>Percent Passing Overall</th>\n",
       "    </tr>\n",
       "  </thead>\n",
       "  <tbody>\n",
       "    <tr>\n",
       "      <th>0</th>\n",
       "      <td>Bailey High School</td>\n",
       "      <td>Cabrera High School</td>\n",
       "      <td>Figueroa High School</td>\n",
       "      <td>Ford High School</td>\n",
       "      <td>Griffin High School</td>\n",
       "      <td>Hernandez High School</td>\n",
       "      <td>Holden High School</td>\n",
       "      <td>Huang High School</td>\n",
       "      <td>Johnson High School</td>\n",
       "      <td>Pena High School</td>\n",
       "    </tr>\n",
       "    <tr>\n",
       "      <th>1</th>\n",
       "      <td>Rodriguez High School</td>\n",
       "      <td>Shelton High School</td>\n",
       "      <td>Thomas High School</td>\n",
       "      <td>Wilson High School</td>\n",
       "      <td>Wright High School</td>\n",
       "      <td>District</td>\n",
       "      <td>Charter</td>\n",
       "      <td>District</td>\n",
       "      <td>District</td>\n",
       "      <td>Charter</td>\n",
       "    </tr>\n",
       "    <tr>\n",
       "      <th>2</th>\n",
       "      <td>District</td>\n",
       "      <td>Charter</td>\n",
       "      <td>District</td>\n",
       "      <td>District</td>\n",
       "      <td>Charter</td>\n",
       "      <td>District</td>\n",
       "      <td>Charter</td>\n",
       "      <td>Charter</td>\n",
       "      <td>Charter</td>\n",
       "      <td>Charter</td>\n",
       "    </tr>\n",
       "    <tr>\n",
       "      <th>3</th>\n",
       "      <td>4976</td>\n",
       "      <td>1858</td>\n",
       "      <td>2949</td>\n",
       "      <td>2739</td>\n",
       "      <td>1468</td>\n",
       "      <td>4635</td>\n",
       "      <td>427</td>\n",
       "      <td>2917</td>\n",
       "      <td>4761</td>\n",
       "      <td>962</td>\n",
       "    </tr>\n",
       "    <tr>\n",
       "      <th>4</th>\n",
       "      <td>3999</td>\n",
       "      <td>1761</td>\n",
       "      <td>1635</td>\n",
       "      <td>2283</td>\n",
       "      <td>1800</td>\n",
       "      <td>3124928.0</td>\n",
       "      <td>1081356.0</td>\n",
       "      <td>1884411.0</td>\n",
       "      <td>1763916.0</td>\n",
       "      <td>917500.0</td>\n",
       "    </tr>\n",
       "    <tr>\n",
       "      <th>5</th>\n",
       "      <td>3022020.0</td>\n",
       "      <td>248087.0</td>\n",
       "      <td>1910635.0</td>\n",
       "      <td>3094650.0</td>\n",
       "      <td>585858.0</td>\n",
       "      <td>2547363.0</td>\n",
       "      <td>1056600.0</td>\n",
       "      <td>1043130.0</td>\n",
       "      <td>1319574.0</td>\n",
       "      <td>1049400.0</td>\n",
       "    </tr>\n",
       "    <tr>\n",
       "      <th>6</th>\n",
       "      <td>628.0</td>\n",
       "      <td>582.0</td>\n",
       "      <td>639.0</td>\n",
       "      <td>644.0</td>\n",
       "      <td>625.0</td>\n",
       "      <td>652.0</td>\n",
       "      <td>581.0</td>\n",
       "      <td>655.0</td>\n",
       "      <td>650.0</td>\n",
       "      <td>609.0</td>\n",
       "    </tr>\n",
       "    <tr>\n",
       "      <th>7</th>\n",
       "      <td>637.0</td>\n",
       "      <td>600.0</td>\n",
       "      <td>638.0</td>\n",
       "      <td>578.0</td>\n",
       "      <td>583.0</td>\n",
       "      <td>77.04843247588424</td>\n",
       "      <td>83.06189451022605</td>\n",
       "      <td>76.71176670057646</td>\n",
       "      <td>77.10259218692954</td>\n",
       "      <td>83.35149863760218</td>\n",
       "    </tr>\n",
       "    <tr>\n",
       "      <th>8</th>\n",
       "      <td>77.28975188781014</td>\n",
       "      <td>83.80327868852459</td>\n",
       "      <td>76.62941378128214</td>\n",
       "      <td>77.07246376811594</td>\n",
       "      <td>83.83991683991684</td>\n",
       "      <td>76.84271067766942</td>\n",
       "      <td>83.3594548551959</td>\n",
       "      <td>83.4183486238532</td>\n",
       "      <td>83.2742006132282</td>\n",
       "      <td>83.68222222222222</td>\n",
       "    </tr>\n",
       "    <tr>\n",
       "      <th>9</th>\n",
       "      <td>81.03396302250803</td>\n",
       "      <td>83.97578040904197</td>\n",
       "      <td>81.15801966768396</td>\n",
       "      <td>80.74625775830594</td>\n",
       "      <td>83.816757493188</td>\n",
       "      <td>80.9344120819849</td>\n",
       "      <td>83.81498829039812</td>\n",
       "      <td>81.18272197463148</td>\n",
       "      <td>80.96639361478681</td>\n",
       "      <td>84.04469854469855</td>\n",
       "    </tr>\n",
       "    <tr>\n",
       "      <th>10</th>\n",
       "      <td>80.74468617154288</td>\n",
       "      <td>83.72572402044293</td>\n",
       "      <td>83.84892966360856</td>\n",
       "      <td>83.98948751642575</td>\n",
       "      <td>83.955</td>\n",
       "      <td>66.68006430868168</td>\n",
       "      <td>94.1334768568353</td>\n",
       "      <td>65.98847066802306</td>\n",
       "      <td>68.3096020445418</td>\n",
       "      <td>93.39237057220708</td>\n",
       "    </tr>\n",
       "    <tr>\n",
       "      <th>11</th>\n",
       "      <td>66.7529665587918</td>\n",
       "      <td>92.50585480093677</td>\n",
       "      <td>65.68392183750429</td>\n",
       "      <td>66.0575509346776</td>\n",
       "      <td>94.5945945945946</td>\n",
       "      <td>66.36659164791197</td>\n",
       "      <td>93.8671209540034</td>\n",
       "      <td>93.27217125382263</td>\n",
       "      <td>93.8677179150241</td>\n",
       "      <td>93.33333333333333</td>\n",
       "    </tr>\n",
       "    <tr>\n",
       "      <th>12</th>\n",
       "      <td>81.93327974276528</td>\n",
       "      <td>97.03982777179763</td>\n",
       "      <td>80.73923363852154</td>\n",
       "      <td>79.29901423877328</td>\n",
       "      <td>97.13896457765668</td>\n",
       "      <td>80.86299892125135</td>\n",
       "      <td>96.25292740046838</td>\n",
       "      <td>81.31642098045938</td>\n",
       "      <td>81.2224322621298</td>\n",
       "      <td>95.94594594594594</td>\n",
       "    </tr>\n",
       "    <tr>\n",
       "      <th>13</th>\n",
       "      <td>80.22005501375344</td>\n",
       "      <td>95.85462805224304</td>\n",
       "      <td>97.30886850152906</td>\n",
       "      <td>96.53964082347788</td>\n",
       "      <td>96.61111111111111</td>\n",
       "      <td>54.64228295819936</td>\n",
       "      <td>91.33476856835307</td>\n",
       "      <td>53.20447609359105</td>\n",
       "      <td>54.289886820007304</td>\n",
       "      <td>90.59945504087193</td>\n",
       "    </tr>\n",
       "    <tr>\n",
       "      <th>14</th>\n",
       "      <td>53.52750809061489</td>\n",
       "      <td>89.22716627634661</td>\n",
       "      <td>53.51388412752828</td>\n",
       "      <td>53.53917244276413</td>\n",
       "      <td>90.54054054054053</td>\n",
       "      <td>52.988247061765435</td>\n",
       "      <td>89.89210675752413</td>\n",
       "      <td>90.94801223241589</td>\n",
       "      <td>90.58256679807272</td>\n",
       "      <td>90.33333333333333</td>\n",
       "    </tr>\n",
       "  </tbody>\n",
       "</table>\n",
       "</div>"
      ],
      "text/plain": [
       "              School Name          School Type   Total School Budget  \\\n",
       "0      Bailey High School  Cabrera High School  Figueroa High School   \n",
       "1   Rodriguez High School  Shelton High School    Thomas High School   \n",
       "2                District              Charter              District   \n",
       "3                    4976                 1858                  2949   \n",
       "4                    3999                 1761                  1635   \n",
       "5               3022020.0             248087.0             1910635.0   \n",
       "6                   628.0                582.0                 639.0   \n",
       "7                   637.0                600.0                 638.0   \n",
       "8       77.28975188781014    83.80327868852459     76.62941378128214   \n",
       "9       81.03396302250803    83.97578040904197     81.15801966768396   \n",
       "10      80.74468617154288    83.72572402044293     83.84892966360856   \n",
       "11       66.7529665587918    92.50585480093677     65.68392183750429   \n",
       "12      81.93327974276528    97.03982777179763     80.73923363852154   \n",
       "13      80.22005501375344    95.85462805224304     97.30886850152906   \n",
       "14      53.52750809061489    89.22716627634661     53.51388412752828   \n",
       "\n",
       "         Student Count   Per Student Budget        Math Score(Avg)  \\\n",
       "0     Ford High School  Griffin High School  Hernandez High School   \n",
       "1   Wilson High School   Wright High School               District   \n",
       "2             District              Charter               District   \n",
       "3                 2739                 1468                   4635   \n",
       "4                 2283                 1800              3124928.0   \n",
       "5            3094650.0             585858.0              2547363.0   \n",
       "6                644.0                625.0                  652.0   \n",
       "7                578.0                583.0      77.04843247588424   \n",
       "8    77.07246376811594    83.83991683991684      76.84271067766942   \n",
       "9    80.74625775830594      83.816757493188       80.9344120819849   \n",
       "10   83.98948751642575               83.955      66.68006430868168   \n",
       "11    66.0575509346776     94.5945945945946      66.36659164791197   \n",
       "12   79.29901423877328    97.13896457765668      80.86299892125135   \n",
       "13   96.53964082347788    96.61111111111111      54.64228295819936   \n",
       "14   53.53917244276413    90.54054054054053     52.988247061765435   \n",
       "\n",
       "    Reading Score(Avg) Percent Passing Math Percent Passing Reading  \\\n",
       "0   Holden High School    Huang High School     Johnson High School   \n",
       "1              Charter             District                District   \n",
       "2              Charter              Charter                 Charter   \n",
       "3                  427                 2917                    4761   \n",
       "4            1081356.0            1884411.0               1763916.0   \n",
       "5            1056600.0            1043130.0               1319574.0   \n",
       "6                581.0                655.0                   650.0   \n",
       "7    83.06189451022605    76.71176670057646       77.10259218692954   \n",
       "8     83.3594548551959     83.4183486238532        83.2742006132282   \n",
       "9    83.81498829039812    81.18272197463148       80.96639361478681   \n",
       "10    94.1334768568353    65.98847066802306        68.3096020445418   \n",
       "11    93.8671209540034    93.27217125382263        93.8677179150241   \n",
       "12   96.25292740046838    81.31642098045938        81.2224322621298   \n",
       "13   91.33476856835307    53.20447609359105      54.289886820007304   \n",
       "14   89.89210675752413    90.94801223241589       90.58256679807272   \n",
       "\n",
       "   Percent Passing Overall  \n",
       "0         Pena High School  \n",
       "1                  Charter  \n",
       "2                  Charter  \n",
       "3                      962  \n",
       "4                 917500.0  \n",
       "5                1049400.0  \n",
       "6                    609.0  \n",
       "7        83.35149863760218  \n",
       "8        83.68222222222222  \n",
       "9        84.04469854469855  \n",
       "10       93.39237057220708  \n",
       "11       93.33333333333333  \n",
       "12       95.94594594594594  \n",
       "13       90.59945504087193  \n",
       "14       90.33333333333333  "
      ]
     },
     "execution_count": 44,
     "metadata": {},
     "output_type": "execute_result"
    }
   ],
   "source": [
    "summary_list = np.array([schools, school_types, per_school_counts, per_school_budget, \n",
    "                         per_school_budget_capita, per_school_math_list, per_school_reading_list, \n",
    "                         per_school_passing_math, per_school_passing_reading, overall_passing_rate]\n",
    "                       )\n",
    "summary_list = np.reshape(summary_list, (15, 10))\n",
    "summary_columns = [\"School Name\", \"School Type\", \"Total School Budget\", \"Student Count\", \n",
    "                   \"Per Student Budget\", \"Math Score(Avg)\", \"Reading Score(Avg)\", \n",
    "                   \"Percent Passing Math\", \"Percent Passing Reading\", \"Percent Passing Overall\", \n",
    "                 ]\n",
    "district_summary = pd.DataFrame(summary_list, columns = summary_columns)\n",
    "\n",
    "#summary_list\n",
    "\n",
    "district_summary"
   ]
  },
  {
   "cell_type": "code",
   "execution_count": null,
   "metadata": {},
   "outputs": [],
   "source": [
    "np.array(schools)"
   ]
  },
  {
   "cell_type": "code",
   "execution_count": null,
   "metadata": {},
   "outputs": [],
   "source": [
    "np.array(per_school_passing_math)"
   ]
  },
  {
   "cell_type": "code",
   "execution_count": 39,
   "metadata": {},
   "outputs": [
    {
     "ename": "ValueError",
     "evalue": "setting an array element with a sequence. The requested array has an inhomogeneous shape after 2 dimensions. The detected shape was (10, 15) + inhomogeneous part.",
     "output_type": "error",
     "traceback": [
      "\u001b[1;31m---------------------------------------------------------------------------\u001b[0m",
      "\u001b[1;31mValueError\u001b[0m                                Traceback (most recent call last)",
      "Cell \u001b[1;32mIn[39], line 10\u001b[0m\n\u001b[0;32m      1\u001b[0m \u001b[38;5;66;03m# schools, school_types, per_school_counts\u001b[39;00m\n\u001b[0;32m      2\u001b[0m \u001b[38;5;66;03m# display(per_school_budget)\u001b[39;00m\n\u001b[0;32m      3\u001b[0m \u001b[38;5;66;03m# display(per_school_budget_capita)\u001b[39;00m\n\u001b[1;32m   (...)\u001b[0m\n\u001b[0;32m      7\u001b[0m \u001b[38;5;66;03m# display(per_school_passing_reading)\u001b[39;00m\n\u001b[0;32m      8\u001b[0m \u001b[38;5;66;03m# display(overall_passing_rate)\u001b[39;00m\n\u001b[1;32m---> 10\u001b[0m summary_list \u001b[38;5;241m=\u001b[39m \u001b[43mnp\u001b[49m\u001b[38;5;241;43m.\u001b[39;49m\u001b[43marray\u001b[49m\u001b[43m(\u001b[49m\u001b[43m[\u001b[49m\u001b[43mschools\u001b[49m\u001b[43m,\u001b[49m\u001b[43m \u001b[49m\u001b[43mschool_types\u001b[49m\u001b[43m,\u001b[49m\u001b[43m \u001b[49m\u001b[43mper_school_counts\u001b[49m\u001b[43m,\u001b[49m\u001b[43m \u001b[49m\u001b[43mper_school_budget\u001b[49m\u001b[43m,\u001b[49m\u001b[43m \u001b[49m\n\u001b[0;32m     11\u001b[0m \u001b[43m                         \u001b[49m\u001b[43mper_school_budget_capita\u001b[49m\u001b[43m,\u001b[49m\u001b[43m \u001b[49m\u001b[43mper_school_math\u001b[49m\u001b[43m,\u001b[49m\u001b[43m \u001b[49m\u001b[43mper_school_reading\u001b[49m\u001b[43m,\u001b[49m\u001b[43m \u001b[49m\n\u001b[0;32m     12\u001b[0m \u001b[43m                         \u001b[49m\u001b[43mper_school_passing_math\u001b[49m\u001b[43m,\u001b[49m\u001b[43m \u001b[49m\u001b[43mper_school_passing_reading\u001b[49m\u001b[43m,\u001b[49m\u001b[43m \u001b[49m\u001b[43moverall_passing_rate\u001b[49m\u001b[43m]\u001b[49m\n\u001b[0;32m     13\u001b[0m \u001b[43m                       \u001b[49m\u001b[43m)\u001b[49m\n\u001b[0;32m     14\u001b[0m summary_list \u001b[38;5;241m=\u001b[39m np\u001b[38;5;241m.\u001b[39mreshape(summary_list, (\u001b[38;5;241m15\u001b[39m, \u001b[38;5;241m10\u001b[39m))\n\u001b[0;32m     15\u001b[0m summary_columns \u001b[38;5;241m=\u001b[39m [\u001b[38;5;124m\"\u001b[39m\u001b[38;5;124mSchool Name\u001b[39m\u001b[38;5;124m\"\u001b[39m, \u001b[38;5;124m\"\u001b[39m\u001b[38;5;124mSchool Type\u001b[39m\u001b[38;5;124m\"\u001b[39m, \u001b[38;5;124m\"\u001b[39m\u001b[38;5;124mTotal School Budget\u001b[39m\u001b[38;5;124m\"\u001b[39m, \u001b[38;5;124m\"\u001b[39m\u001b[38;5;124mStudent Count\u001b[39m\u001b[38;5;124m\"\u001b[39m, \n\u001b[0;32m     16\u001b[0m                    \u001b[38;5;124m\"\u001b[39m\u001b[38;5;124mPer Student Budget\u001b[39m\u001b[38;5;124m\"\u001b[39m, \u001b[38;5;124m\"\u001b[39m\u001b[38;5;124mMath Score(Avg)\u001b[39m\u001b[38;5;124m\"\u001b[39m, \u001b[38;5;124m\"\u001b[39m\u001b[38;5;124mReading Score(Avg)\u001b[39m\u001b[38;5;124m\"\u001b[39m, \n\u001b[0;32m     17\u001b[0m                    \u001b[38;5;124m\"\u001b[39m\u001b[38;5;124mPercent Passing Math\u001b[39m\u001b[38;5;124m\"\u001b[39m, \u001b[38;5;124m\"\u001b[39m\u001b[38;5;124mPercent Passing Reading\u001b[39m\u001b[38;5;124m\"\u001b[39m, \u001b[38;5;124m\"\u001b[39m\u001b[38;5;124mPercent Passing Overall\u001b[39m\u001b[38;5;124m\"\u001b[39m, \n\u001b[0;32m     18\u001b[0m                  ]\n",
      "\u001b[1;31mValueError\u001b[0m: setting an array element with a sequence. The requested array has an inhomogeneous shape after 2 dimensions. The detected shape was (10, 15) + inhomogeneous part."
     ]
    }
   ],
   "source": [
    "# schools, school_types, per_school_counts\n",
    "# display(per_school_budget)\n",
    "# display(per_school_budget_capita)\n",
    "# display(per_school_math)\n",
    "# display(per_school_reading)\n",
    "# display(per_school_passing_math)\n",
    "# display(per_school_passing_reading)\n",
    "# display(overall_passing_rate)\n",
    "\n",
    "summary_list = np.array([schools, school_types, per_school_counts, per_school_budget, \n",
    "                         per_school_budget_capita, per_school_math, per_school_reading, \n",
    "                         per_school_passing_math, per_school_passing_reading, overall_passing_rate]\n",
    "                       )\n",
    "summary_list = np.reshape(summary_list, (15, 10))\n",
    "summary_columns = [\"School Name\", \"School Type\", \"Total School Budget\", \"Student Count\", \n",
    "                   \"Per Student Budget\", \"Math Score(Avg)\", \"Reading Score(Avg)\", \n",
    "                   \"Percent Passing Math\", \"Percent Passing Reading\", \"Percent Passing Overall\", \n",
    "                 ]\n",
    "district_summary = pd.DataFrame(summary_list, columns = summary_columns)"
   ]
  },
  {
   "cell_type": "code",
   "execution_count": null,
   "metadata": {},
   "outputs": [],
   "source": [
    "# Create a DataFrame called `per_school_summary` with columns for the calculations above.\n",
    "per_school_summary = \n",
    "\n",
    "# Formatting\n",
    "per_school_summary[\"Total School Budget\"] = per_school_summary[\"Total School Budget\"].map(\"${:,.2f}\".format)\n",
    "per_school_summary[\"Per Student Budget\"] = per_school_summary[\"Per Student Budget\"].map(\"${:,.2f}\".format)\n",
    "\n",
    "# Display the DataFrame\n",
    "per_school_summary"
   ]
  },
  {
   "cell_type": "markdown",
   "metadata": {},
   "source": [
    "## Highest-Performing Schools (by % Overall Passing)"
   ]
  },
  {
   "cell_type": "code",
   "execution_count": null,
   "metadata": {
    "scrolled": true
   },
   "outputs": [],
   "source": [
    "# Sort the schools by `% Overall Passing` in descending order and display the top 5 rows.\n",
    "top_schools = \n",
    "top_schools.head(5)"
   ]
  },
  {
   "cell_type": "markdown",
   "metadata": {},
   "source": [
    "## Bottom Performing Schools (By % Overall Passing)"
   ]
  },
  {
   "cell_type": "code",
   "execution_count": null,
   "metadata": {},
   "outputs": [],
   "source": [
    "# Sort the schools by `% Overall Passing` in ascending order and display the top 5 rows.\n",
    "bottom_schools = \n",
    "bottom_schools.head(5)"
   ]
  },
  {
   "cell_type": "markdown",
   "metadata": {},
   "source": [
    "## Math Scores by Grade"
   ]
  },
  {
   "cell_type": "code",
   "execution_count": null,
   "metadata": {},
   "outputs": [],
   "source": [
    "# Use the code provided to separate the data by grade\n",
    "ninth_graders = school_data_complete[(school_data_complete[\"grade\"] == \"9th\")]\n",
    "tenth_graders = school_data_complete[(school_data_complete[\"grade\"] == \"10th\")]\n",
    "eleventh_graders = school_data_complete[(school_data_complete[\"grade\"] == \"11th\")]\n",
    "twelfth_graders = school_data_complete[(school_data_complete[\"grade\"] == \"12th\")]\n",
    "\n",
    "# Group by `school_name` and take the mean of the `math_score` column for each.\n",
    "ninth_grade_math_scores = \n",
    "tenth_grader_math_scores = \n",
    "eleventh_grader_math_scores = \n",
    "twelfth_grader_math_scores = \n",
    "\n",
    "# Combine each of the scores above into single DataFrame called `math_scores_by_grade`\n",
    "math_scores_by_grade = \n",
    "\n",
    "# Minor data wrangling\n",
    "math_scores_by_grade.index.name = None\n",
    "\n",
    "# Display the DataFrame\n",
    "math_scores_by_grade"
   ]
  },
  {
   "cell_type": "markdown",
   "metadata": {},
   "source": [
    "## Reading Score by Grade "
   ]
  },
  {
   "cell_type": "code",
   "execution_count": null,
   "metadata": {},
   "outputs": [],
   "source": [
    "# Use the code provided to separate the data by grade\n",
    "ninth_graders = school_data_complete[(school_data_complete[\"grade\"] == \"9th\")]\n",
    "tenth_graders = school_data_complete[(school_data_complete[\"grade\"] == \"10th\")]\n",
    "eleventh_graders = school_data_complete[(school_data_complete[\"grade\"] == \"11th\")]\n",
    "twelfth_graders = school_data_complete[(school_data_complete[\"grade\"] == \"12th\")]\n",
    "\n",
    "# Group by `school_name` and take the mean of the the `reading_score` column for each.\n",
    "ninth_grade_reading_scores = \n",
    "tenth_grader_reading_scores = \n",
    "eleventh_grader_reading_scores = \n",
    "twelfth_grader_reading_scores = \n",
    "\n",
    "# Combine each of the scores above into single DataFrame called `reading_scores_by_grade`\n",
    "reading_scores_by_grade = \n",
    "\n",
    "# Minor data wrangling\n",
    "reading_scores_by_grade = reading_scores_by_grade[[\"9th\", \"10th\", \"11th\", \"12th\"]]\n",
    "reading_scores_by_grade.index.name = None\n",
    "\n",
    "# Display the DataFrame\n",
    "reading_scores_by_grade"
   ]
  },
  {
   "cell_type": "markdown",
   "metadata": {},
   "source": [
    "## Scores by School Spending"
   ]
  },
  {
   "cell_type": "code",
   "execution_count": null,
   "metadata": {},
   "outputs": [],
   "source": [
    "# Establish the bins \n",
    "spending_bins = [0, 585, 630, 645, 680]\n",
    "labels = [\"<$585\", \"$585-630\", \"$630-645\", \"$645-680\"]"
   ]
  },
  {
   "cell_type": "code",
   "execution_count": null,
   "metadata": {},
   "outputs": [],
   "source": [
    "# Create a copy of the school summary since it has the \"Per Student Budget\" \n",
    "school_spending_df = per_school_summary.copy()"
   ]
  },
  {
   "cell_type": "code",
   "execution_count": null,
   "metadata": {},
   "outputs": [],
   "source": [
    "# Use `pd.cut` to categorize spending based on the bins.\n",
    "school_spending_df[\"Spending Ranges (Per Student)\"] = \n",
    "school_spending_df"
   ]
  },
  {
   "cell_type": "code",
   "execution_count": null,
   "metadata": {},
   "outputs": [],
   "source": [
    "#  Calculate averages for the desired columns. \n",
    "spending_math_scores = school_spending_df.groupby([\"Spending Ranges (Per Student)\"])[\"Average Math Score\"].mean()\n",
    "spending_reading_scores = school_spending_df.groupby([\"Spending Ranges (Per Student)\"])[\"Average Reading Score\"].mean()\n",
    "spending_passing_math = school_spending_df.groupby([\"Spending Ranges (Per Student)\"])[\"% Passing Math\"].mean()\n",
    "spending_passing_reading = school_spending_df.groupby([\"Spending Ranges (Per Student)\"])[\"% Passing Reading\"].mean()\n",
    "overall_passing_spending = school_spending_df.groupby([\"Spending Ranges (Per Student)\"])[\"% Overall Passing\"].mean()"
   ]
  },
  {
   "cell_type": "code",
   "execution_count": null,
   "metadata": {},
   "outputs": [],
   "source": [
    "# Assemble into DataFrame\n",
    "spending_summary = \n",
    "\n",
    "# Display results\n",
    "spending_summary"
   ]
  },
  {
   "cell_type": "markdown",
   "metadata": {},
   "source": [
    "## Scores by School Size"
   ]
  },
  {
   "cell_type": "code",
   "execution_count": null,
   "metadata": {},
   "outputs": [],
   "source": [
    "# Establish the bins.\n",
    "size_bins = [0, 1000, 2000, 5000]\n",
    "labels = [\"Small (<1000)\", \"Medium (1000-2000)\", \"Large (2000-5000)\"]"
   ]
  },
  {
   "cell_type": "code",
   "execution_count": null,
   "metadata": {},
   "outputs": [],
   "source": [
    "# Categorize the spending based on the bins\n",
    "# Use `pd.cut` on the \"Total Students\" column of the `per_school_summary` DataFrame.\n",
    "\n",
    "per_school_summary[\"School Size\"] = \n",
    "per_school_summary"
   ]
  },
  {
   "cell_type": "code",
   "execution_count": null,
   "metadata": {},
   "outputs": [],
   "source": [
    "# Calculate averages for the desired columns. \n",
    "size_math_scores = per_school_summary.groupby([\"School Size\"])[\"Average Math Score\"].mean()\n",
    "size_reading_scores = per_school_summary.groupby([\"School Size\"])[\"Average Reading Score\"].mean()\n",
    "size_passing_math = per_school_summary.groupby([\"School Size\"])[\"% Passing Math\"].mean()\n",
    "size_passing_reading = per_school_summary.groupby([\"School Size\"])[\"% Passing Reading\"].mean()\n",
    "size_overall_passing = per_school_summary.groupby([\"School Size\"])[\"% Overall Passing\"].mean()"
   ]
  },
  {
   "cell_type": "code",
   "execution_count": null,
   "metadata": {
    "scrolled": true
   },
   "outputs": [],
   "source": [
    "# Create a DataFrame called `size_summary` that breaks down school performance based on school size (small, medium, or large).\n",
    "# Use the scores above to create a new DataFrame called `size_summary`\n",
    "size_summary = \n",
    "\n",
    "# Display results\n",
    "size_summary"
   ]
  },
  {
   "cell_type": "markdown",
   "metadata": {},
   "source": [
    "## Scores by School Type"
   ]
  },
  {
   "cell_type": "code",
   "execution_count": null,
   "metadata": {},
   "outputs": [],
   "source": [
    "# Group the per_school_summary DataFrame by \"School Type\" and average the results.\n",
    "average_math_score_by_type = per_school_summary.groupby([\"School Type\"])[\"Average Math Score\"].mean()\n",
    "average_reading_score_by_type = per_school_summary.groupby([\"School Type\"])[\"Average Reading Score\"].mean()\n",
    "average_percent_passing_math_by_type = per_school_summary.groupby([\"School Type\"])[\"% Passing Math\"].mean()\n",
    "average_percent_passing_reading_by_type = per_school_summary.groupby([\"School Type\"])[\"% Passing Reading\"].mean()\n",
    "average_percent_overall_passing_by_type = per_school_summary.groupby([\"School Type\"])[\"% Overall Passing\"].mean()"
   ]
  },
  {
   "cell_type": "code",
   "execution_count": null,
   "metadata": {},
   "outputs": [],
   "source": [
    "# Assemble the new data by type into a DataFrame called `type_summary`\n",
    "type_summary = \n",
    "\n",
    "# Display results\n",
    "type_summary"
   ]
  },
  {
   "cell_type": "code",
   "execution_count": null,
   "metadata": {},
   "outputs": [],
   "source": []
  }
 ],
 "metadata": {
  "anaconda-cloud": {},
  "kernel_info": {
   "name": "python3"
  },
  "kernelspec": {
   "display_name": "Python 3 (ipykernel)",
   "language": "python",
   "name": "python3"
  },
  "language_info": {
   "codemirror_mode": {
    "name": "ipython",
    "version": 3
   },
   "file_extension": ".py",
   "mimetype": "text/x-python",
   "name": "python",
   "nbconvert_exporter": "python",
   "pygments_lexer": "ipython3",
   "version": "3.10.13"
  },
  "latex_envs": {
   "LaTeX_envs_menu_present": true,
   "autoclose": false,
   "autocomplete": true,
   "bibliofile": "biblio.bib",
   "cite_by": "apalike",
   "current_citInitial": 1,
   "eqLabelWithNumbers": true,
   "eqNumInitial": 1,
   "hotkeys": {
    "equation": "Ctrl-E",
    "itemize": "Ctrl-I"
   },
   "labels_anchors": false,
   "latex_user_defs": false,
   "report_style_numbering": false,
   "user_envs_cfg": false
  },
  "nteract": {
   "version": "0.8.4"
  },
  "vscode": {
   "interpreter": {
    "hash": "5384d77d82de63fd599f73e77f9ec786e7719288bf80a29ec0288c670ac3cf32"
   }
  }
 },
 "nbformat": 4,
 "nbformat_minor": 4
}
